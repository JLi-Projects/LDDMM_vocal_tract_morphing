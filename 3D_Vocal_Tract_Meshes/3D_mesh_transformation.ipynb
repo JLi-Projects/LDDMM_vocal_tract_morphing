{
 "cells": [
  {
   "cell_type": "markdown",
   "id": "2858e97c",
   "metadata": {},
   "source": [
    "## Remeshing Test"
   ]
  },
  {
   "cell_type": "code",
   "execution_count": 3,
   "id": "09af34cc",
   "metadata": {},
   "outputs": [
    {
     "name": "stdout",
     "output_type": "stream",
     "text": [
      "Requirement already satisfied: pyvista[jupyter] in c:\\users\\nova\\anaconda3\\envs\\lddmm_env\\lib\\site-packages (0.44.1)\n",
      "Requirement already satisfied: matplotlib>=3.0.1 in c:\\users\\nova\\anaconda3\\envs\\lddmm_env\\lib\\site-packages (from pyvista[jupyter]) (3.7.3)\n",
      "Requirement already satisfied: numpy>=1.21.0 in c:\\users\\nova\\anaconda3\\envs\\lddmm_env\\lib\\site-packages (from pyvista[jupyter]) (1.24.4)\n",
      "Requirement already satisfied: pillow in c:\\users\\nova\\anaconda3\\envs\\lddmm_env\\lib\\site-packages (from pyvista[jupyter]) (9.4.0)\n",
      "Requirement already satisfied: pooch in c:\\users\\nova\\anaconda3\\envs\\lddmm_env\\lib\\site-packages (from pyvista[jupyter]) (1.8.2)\n",
      "Requirement already satisfied: scooby>=0.5.1 in c:\\users\\nova\\anaconda3\\envs\\lddmm_env\\lib\\site-packages (from pyvista[jupyter]) (0.10.0)\n",
      "Requirement already satisfied: vtk in c:\\users\\nova\\anaconda3\\envs\\lddmm_env\\lib\\site-packages (from pyvista[jupyter]) (9.3.1)\n",
      "Requirement already satisfied: typing-extensions in c:\\users\\nova\\anaconda3\\envs\\lddmm_env\\lib\\site-packages (from pyvista[jupyter]) (4.12.2)\n",
      "Requirement already satisfied: ipywidgets in c:\\users\\nova\\anaconda3\\envs\\lddmm_env\\lib\\site-packages (from pyvista[jupyter]) (8.1.5)\n",
      "Requirement already satisfied: jupyter-server-proxy in c:\\users\\nova\\anaconda3\\envs\\lddmm_env\\lib\\site-packages (from pyvista[jupyter]) (4.4.0)\n",
      "Requirement already satisfied: nest-asyncio in c:\\users\\nova\\anaconda3\\envs\\lddmm_env\\lib\\site-packages (from pyvista[jupyter]) (1.6.0)\n",
      "Requirement already satisfied: trame>=2.5.2 in c:\\users\\nova\\anaconda3\\envs\\lddmm_env\\lib\\site-packages (from pyvista[jupyter]) (3.7.0)\n",
      "Requirement already satisfied: trame-client>=2.12.7 in c:\\users\\nova\\anaconda3\\envs\\lddmm_env\\lib\\site-packages (from pyvista[jupyter]) (3.4.0)\n",
      "Requirement already satisfied: trame-server>=2.11.7 in c:\\users\\nova\\anaconda3\\envs\\lddmm_env\\lib\\site-packages (from pyvista[jupyter]) (3.2.3)\n",
      "Requirement already satisfied: trame-vtk>=2.5.8 in c:\\users\\nova\\anaconda3\\envs\\lddmm_env\\lib\\site-packages (from pyvista[jupyter]) (2.8.11)\n",
      "Requirement already satisfied: trame-vuetify>=2.3.1 in c:\\users\\nova\\anaconda3\\envs\\lddmm_env\\lib\\site-packages (from pyvista[jupyter]) (2.7.1)\n",
      "Requirement already satisfied: contourpy>=1.0.1 in c:\\users\\nova\\anaconda3\\envs\\lddmm_env\\lib\\site-packages (from matplotlib>=3.0.1->pyvista[jupyter]) (1.1.1)\n",
      "Requirement already satisfied: cycler>=0.10 in c:\\users\\nova\\anaconda3\\envs\\lddmm_env\\lib\\site-packages (from matplotlib>=3.0.1->pyvista[jupyter]) (0.12.1)\n",
      "Requirement already satisfied: fonttools>=4.22.0 in c:\\users\\nova\\anaconda3\\envs\\lddmm_env\\lib\\site-packages (from matplotlib>=3.0.1->pyvista[jupyter]) (4.53.1)\n",
      "Requirement already satisfied: kiwisolver>=1.0.1 in c:\\users\\nova\\anaconda3\\envs\\lddmm_env\\lib\\site-packages (from matplotlib>=3.0.1->pyvista[jupyter]) (1.4.5)\n",
      "Requirement already satisfied: packaging>=20.0 in c:\\users\\nova\\anaconda3\\envs\\lddmm_env\\lib\\site-packages (from matplotlib>=3.0.1->pyvista[jupyter]) (24.1)\n",
      "Requirement already satisfied: pyparsing>=2.3.1 in c:\\users\\nova\\anaconda3\\envs\\lddmm_env\\lib\\site-packages (from matplotlib>=3.0.1->pyvista[jupyter]) (3.1.4)\n",
      "Requirement already satisfied: python-dateutil>=2.7 in c:\\users\\nova\\anaconda3\\envs\\lddmm_env\\lib\\site-packages (from matplotlib>=3.0.1->pyvista[jupyter]) (2.9.0)\n",
      "Requirement already satisfied: importlib-resources>=3.2.0 in c:\\users\\nova\\anaconda3\\envs\\lddmm_env\\lib\\site-packages (from matplotlib>=3.0.1->pyvista[jupyter]) (6.4.5)\n",
      "Requirement already satisfied: wslink>=2.1.3 in c:\\users\\nova\\anaconda3\\envs\\lddmm_env\\lib\\site-packages (from trame>=2.5.2->pyvista[jupyter]) (2.2.1)\n",
      "Requirement already satisfied: more-itertools in c:\\users\\nova\\anaconda3\\envs\\lddmm_env\\lib\\site-packages (from trame-server>=2.11.7->pyvista[jupyter]) (10.5.0)\n",
      "Requirement already satisfied: comm>=0.1.3 in c:\\users\\nova\\anaconda3\\envs\\lddmm_env\\lib\\site-packages (from ipywidgets->pyvista[jupyter]) (0.2.2)\n",
      "Requirement already satisfied: ipython>=6.1.0 in c:\\users\\nova\\anaconda3\\envs\\lddmm_env\\lib\\site-packages (from ipywidgets->pyvista[jupyter]) (8.12.2)\n",
      "Requirement already satisfied: traitlets>=4.3.1 in c:\\users\\nova\\anaconda3\\envs\\lddmm_env\\lib\\site-packages (from ipywidgets->pyvista[jupyter]) (5.14.3)\n",
      "Requirement already satisfied: widgetsnbextension~=4.0.12 in c:\\users\\nova\\anaconda3\\envs\\lddmm_env\\lib\\site-packages (from ipywidgets->pyvista[jupyter]) (4.0.13)\n",
      "Requirement already satisfied: jupyterlab-widgets~=3.0.12 in c:\\users\\nova\\anaconda3\\envs\\lddmm_env\\lib\\site-packages (from ipywidgets->pyvista[jupyter]) (3.0.13)\n",
      "Requirement already satisfied: aiohttp in c:\\users\\nova\\anaconda3\\envs\\lddmm_env\\lib\\site-packages (from jupyter-server-proxy->pyvista[jupyter]) (3.10.10)\n",
      "Requirement already satisfied: importlib-metadata>=4.8.3 in c:\\users\\nova\\anaconda3\\envs\\lddmm_env\\lib\\site-packages (from jupyter-server-proxy->pyvista[jupyter]) (8.5.0)\n",
      "Requirement already satisfied: jupyter-server>=1.24.0 in c:\\users\\nova\\anaconda3\\envs\\lddmm_env\\lib\\site-packages (from jupyter-server-proxy->pyvista[jupyter]) (2.14.2)\n",
      "Requirement already satisfied: simpervisor>=1.0.0 in c:\\users\\nova\\anaconda3\\envs\\lddmm_env\\lib\\site-packages (from jupyter-server-proxy->pyvista[jupyter]) (1.0.0)\n",
      "Requirement already satisfied: tornado>=6.1.0 in c:\\users\\nova\\anaconda3\\envs\\lddmm_env\\lib\\site-packages (from jupyter-server-proxy->pyvista[jupyter]) (6.4.1)\n",
      "Requirement already satisfied: platformdirs>=2.5.0 in c:\\users\\nova\\anaconda3\\envs\\lddmm_env\\lib\\site-packages (from pooch->pyvista[jupyter]) (4.3.6)\n",
      "Requirement already satisfied: requests>=2.19.0 in c:\\users\\nova\\anaconda3\\envs\\lddmm_env\\lib\\site-packages (from pooch->pyvista[jupyter]) (2.32.3)\n",
      "Requirement already satisfied: zipp>=3.20 in c:\\users\\nova\\anaconda3\\envs\\lddmm_env\\lib\\site-packages (from importlib-metadata>=4.8.3->jupyter-server-proxy->pyvista[jupyter]) (3.20.2)\n",
      "Requirement already satisfied: backcall in c:\\users\\nova\\anaconda3\\envs\\lddmm_env\\lib\\site-packages (from ipython>=6.1.0->ipywidgets->pyvista[jupyter]) (0.2.0)\n",
      "Requirement already satisfied: decorator in c:\\users\\nova\\anaconda3\\envs\\lddmm_env\\lib\\site-packages (from ipython>=6.1.0->ipywidgets->pyvista[jupyter]) (5.1.1)\n",
      "Requirement already satisfied: jedi>=0.16 in c:\\users\\nova\\anaconda3\\envs\\lddmm_env\\lib\\site-packages (from ipython>=6.1.0->ipywidgets->pyvista[jupyter]) (0.19.1)\n",
      "Requirement already satisfied: matplotlib-inline in c:\\users\\nova\\anaconda3\\envs\\lddmm_env\\lib\\site-packages (from ipython>=6.1.0->ipywidgets->pyvista[jupyter]) (0.1.7)\n",
      "Requirement already satisfied: pickleshare in c:\\users\\nova\\anaconda3\\envs\\lddmm_env\\lib\\site-packages (from ipython>=6.1.0->ipywidgets->pyvista[jupyter]) (0.7.5)\n",
      "Requirement already satisfied: prompt-toolkit!=3.0.37,<3.1.0,>=3.0.30 in c:\\users\\nova\\anaconda3\\envs\\lddmm_env\\lib\\site-packages (from ipython>=6.1.0->ipywidgets->pyvista[jupyter]) (3.0.48)\n",
      "Requirement already satisfied: pygments>=2.4.0 in c:\\users\\nova\\anaconda3\\envs\\lddmm_env\\lib\\site-packages (from ipython>=6.1.0->ipywidgets->pyvista[jupyter]) (2.18.0)\n",
      "Requirement already satisfied: stack-data in c:\\users\\nova\\anaconda3\\envs\\lddmm_env\\lib\\site-packages (from ipython>=6.1.0->ipywidgets->pyvista[jupyter]) (0.6.2)\n",
      "Requirement already satisfied: colorama in c:\\users\\nova\\anaconda3\\envs\\lddmm_env\\lib\\site-packages (from ipython>=6.1.0->ipywidgets->pyvista[jupyter]) (0.4.6)\n",
      "Requirement already satisfied: anyio>=3.1.0 in c:\\users\\nova\\anaconda3\\envs\\lddmm_env\\lib\\site-packages (from jupyter-server>=1.24.0->jupyter-server-proxy->pyvista[jupyter]) (4.5.0)\n",
      "Requirement already satisfied: argon2-cffi>=21.1 in c:\\users\\nova\\anaconda3\\envs\\lddmm_env\\lib\\site-packages (from jupyter-server>=1.24.0->jupyter-server-proxy->pyvista[jupyter]) (23.1.0)\n",
      "Requirement already satisfied: jinja2>=3.0.3 in c:\\users\\nova\\anaconda3\\envs\\lddmm_env\\lib\\site-packages (from jupyter-server>=1.24.0->jupyter-server-proxy->pyvista[jupyter]) (3.1.4)\n",
      "Requirement already satisfied: jupyter-client>=7.4.4 in c:\\users\\nova\\anaconda3\\envs\\lddmm_env\\lib\\site-packages (from jupyter-server>=1.24.0->jupyter-server-proxy->pyvista[jupyter]) (7.4.9)\n",
      "Requirement already satisfied: jupyter-core!=5.0.*,>=4.12 in c:\\users\\nova\\anaconda3\\envs\\lddmm_env\\lib\\site-packages (from jupyter-server>=1.24.0->jupyter-server-proxy->pyvista[jupyter]) (5.7.2)\n",
      "Requirement already satisfied: jupyter-events>=0.9.0 in c:\\users\\nova\\anaconda3\\envs\\lddmm_env\\lib\\site-packages (from jupyter-server>=1.24.0->jupyter-server-proxy->pyvista[jupyter]) (0.10.0)\n",
      "Requirement already satisfied: jupyter-server-terminals>=0.4.4 in c:\\users\\nova\\anaconda3\\envs\\lddmm_env\\lib\\site-packages (from jupyter-server>=1.24.0->jupyter-server-proxy->pyvista[jupyter]) (0.5.3)\n",
      "Requirement already satisfied: nbconvert>=6.4.4 in c:\\users\\nova\\anaconda3\\envs\\lddmm_env\\lib\\site-packages (from jupyter-server>=1.24.0->jupyter-server-proxy->pyvista[jupyter]) (7.16.4)\n",
      "Requirement already satisfied: nbformat>=5.3.0 in c:\\users\\nova\\anaconda3\\envs\\lddmm_env\\lib\\site-packages (from jupyter-server>=1.24.0->jupyter-server-proxy->pyvista[jupyter]) (5.10.4)\n",
      "Requirement already satisfied: overrides>=5.0 in c:\\users\\nova\\anaconda3\\envs\\lddmm_env\\lib\\site-packages (from jupyter-server>=1.24.0->jupyter-server-proxy->pyvista[jupyter]) (7.7.0)\n",
      "Requirement already satisfied: prometheus-client>=0.9 in c:\\users\\nova\\anaconda3\\envs\\lddmm_env\\lib\\site-packages (from jupyter-server>=1.24.0->jupyter-server-proxy->pyvista[jupyter]) (0.21.0)\n",
      "Requirement already satisfied: pywinpty>=2.0.1 in c:\\users\\nova\\anaconda3\\envs\\lddmm_env\\lib\\site-packages (from jupyter-server>=1.24.0->jupyter-server-proxy->pyvista[jupyter]) (2.0.13)\n",
      "Requirement already satisfied: pyzmq>=24 in c:\\users\\nova\\anaconda3\\envs\\lddmm_env\\lib\\site-packages (from jupyter-server>=1.24.0->jupyter-server-proxy->pyvista[jupyter]) (26.2.0)\n",
      "Requirement already satisfied: send2trash>=1.8.2 in c:\\users\\nova\\anaconda3\\envs\\lddmm_env\\lib\\site-packages (from jupyter-server>=1.24.0->jupyter-server-proxy->pyvista[jupyter]) (1.8.3)\n",
      "Requirement already satisfied: terminado>=0.8.3 in c:\\users\\nova\\anaconda3\\envs\\lddmm_env\\lib\\site-packages (from jupyter-server>=1.24.0->jupyter-server-proxy->pyvista[jupyter]) (0.18.1)\n",
      "Requirement already satisfied: websocket-client>=1.7 in c:\\users\\nova\\anaconda3\\envs\\lddmm_env\\lib\\site-packages (from jupyter-server>=1.24.0->jupyter-server-proxy->pyvista[jupyter]) (1.8.0)\n",
      "Requirement already satisfied: six>=1.5 in c:\\users\\nova\\anaconda3\\envs\\lddmm_env\\lib\\site-packages (from python-dateutil>=2.7->matplotlib>=3.0.1->pyvista[jupyter]) (1.16.0)\n",
      "Requirement already satisfied: charset-normalizer<4,>=2 in c:\\users\\nova\\anaconda3\\envs\\lddmm_env\\lib\\site-packages (from requests>=2.19.0->pooch->pyvista[jupyter]) (3.4.0)\n",
      "Requirement already satisfied: idna<4,>=2.5 in c:\\users\\nova\\anaconda3\\envs\\lddmm_env\\lib\\site-packages (from requests>=2.19.0->pooch->pyvista[jupyter]) (3.10)\n",
      "Requirement already satisfied: urllib3<3,>=1.21.1 in c:\\users\\nova\\anaconda3\\envs\\lddmm_env\\lib\\site-packages (from requests>=2.19.0->pooch->pyvista[jupyter]) (2.2.3)\n",
      "Requirement already satisfied: certifi>=2017.4.17 in c:\\users\\nova\\anaconda3\\envs\\lddmm_env\\lib\\site-packages (from requests>=2.19.0->pooch->pyvista[jupyter]) (2024.8.30)\n",
      "Requirement already satisfied: msgpack<2,>=1 in c:\\users\\nova\\anaconda3\\envs\\lddmm_env\\lib\\site-packages (from wslink>=2.1.3->trame>=2.5.2->pyvista[jupyter]) (1.1.0)\n",
      "Requirement already satisfied: aiohappyeyeballs>=2.3.0 in c:\\users\\nova\\anaconda3\\envs\\lddmm_env\\lib\\site-packages (from aiohttp->jupyter-server-proxy->pyvista[jupyter]) (2.4.3)\n",
      "Requirement already satisfied: aiosignal>=1.1.2 in c:\\users\\nova\\anaconda3\\envs\\lddmm_env\\lib\\site-packages (from aiohttp->jupyter-server-proxy->pyvista[jupyter]) (1.3.1)\n",
      "Requirement already satisfied: attrs>=17.3.0 in c:\\users\\nova\\anaconda3\\envs\\lddmm_env\\lib\\site-packages (from aiohttp->jupyter-server-proxy->pyvista[jupyter]) (24.2.0)\n",
      "Requirement already satisfied: frozenlist>=1.1.1 in c:\\users\\nova\\anaconda3\\envs\\lddmm_env\\lib\\site-packages (from aiohttp->jupyter-server-proxy->pyvista[jupyter]) (1.5.0)\n",
      "Requirement already satisfied: multidict<7.0,>=4.5 in c:\\users\\nova\\anaconda3\\envs\\lddmm_env\\lib\\site-packages (from aiohttp->jupyter-server-proxy->pyvista[jupyter]) (6.1.0)\n",
      "Requirement already satisfied: yarl<2.0,>=1.12.0 in c:\\users\\nova\\anaconda3\\envs\\lddmm_env\\lib\\site-packages (from aiohttp->jupyter-server-proxy->pyvista[jupyter]) (1.15.2)\n",
      "Requirement already satisfied: async-timeout<5.0,>=4.0 in c:\\users\\nova\\anaconda3\\envs\\lddmm_env\\lib\\site-packages (from aiohttp->jupyter-server-proxy->pyvista[jupyter]) (4.0.3)\n",
      "Requirement already satisfied: sniffio>=1.1 in c:\\users\\nova\\anaconda3\\envs\\lddmm_env\\lib\\site-packages (from anyio>=3.1.0->jupyter-server>=1.24.0->jupyter-server-proxy->pyvista[jupyter]) (1.3.1)\n",
      "Requirement already satisfied: exceptiongroup>=1.0.2 in c:\\users\\nova\\anaconda3\\envs\\lddmm_env\\lib\\site-packages (from anyio>=3.1.0->jupyter-server>=1.24.0->jupyter-server-proxy->pyvista[jupyter]) (1.2.2)\n",
      "Requirement already satisfied: argon2-cffi-bindings in c:\\users\\nova\\anaconda3\\envs\\lddmm_env\\lib\\site-packages (from argon2-cffi>=21.1->jupyter-server>=1.24.0->jupyter-server-proxy->pyvista[jupyter]) (21.2.0)\n",
      "Requirement already satisfied: parso<0.9.0,>=0.8.3 in c:\\users\\nova\\anaconda3\\envs\\lddmm_env\\lib\\site-packages (from jedi>=0.16->ipython>=6.1.0->ipywidgets->pyvista[jupyter]) (0.8.4)\n",
      "Requirement already satisfied: MarkupSafe>=2.0 in c:\\users\\nova\\anaconda3\\envs\\lddmm_env\\lib\\site-packages (from jinja2>=3.0.3->jupyter-server>=1.24.0->jupyter-server-proxy->pyvista[jupyter]) (2.1.5)\n",
      "Requirement already satisfied: entrypoints in c:\\users\\nova\\anaconda3\\envs\\lddmm_env\\lib\\site-packages (from jupyter-client>=7.4.4->jupyter-server>=1.24.0->jupyter-server-proxy->pyvista[jupyter]) (0.4)\n",
      "Requirement already satisfied: pywin32>=300 in c:\\users\\nova\\anaconda3\\envs\\lddmm_env\\lib\\site-packages (from jupyter-core!=5.0.*,>=4.12->jupyter-server>=1.24.0->jupyter-server-proxy->pyvista[jupyter]) (306)\n",
      "Requirement already satisfied: jsonschema>=4.18.0 in c:\\users\\nova\\anaconda3\\envs\\lddmm_env\\lib\\site-packages (from jsonschema[format-nongpl]>=4.18.0->jupyter-events>=0.9.0->jupyter-server>=1.24.0->jupyter-server-proxy->pyvista[jupyter]) (4.23.0)\n",
      "Requirement already satisfied: python-json-logger>=2.0.4 in c:\\users\\nova\\anaconda3\\envs\\lddmm_env\\lib\\site-packages (from jupyter-events>=0.9.0->jupyter-server>=1.24.0->jupyter-server-proxy->pyvista[jupyter]) (2.0.7)\n",
      "Requirement already satisfied: pyyaml>=5.3 in c:\\users\\nova\\anaconda3\\envs\\lddmm_env\\lib\\site-packages (from jupyter-events>=0.9.0->jupyter-server>=1.24.0->jupyter-server-proxy->pyvista[jupyter]) (6.0.2)\n",
      "Requirement already satisfied: referencing in c:\\users\\nova\\anaconda3\\envs\\lddmm_env\\lib\\site-packages (from jupyter-events>=0.9.0->jupyter-server>=1.24.0->jupyter-server-proxy->pyvista[jupyter]) (0.35.1)\n",
      "Requirement already satisfied: rfc3339-validator in c:\\users\\nova\\anaconda3\\envs\\lddmm_env\\lib\\site-packages (from jupyter-events>=0.9.0->jupyter-server>=1.24.0->jupyter-server-proxy->pyvista[jupyter]) (0.1.4)\n",
      "Requirement already satisfied: rfc3986-validator>=0.1.1 in c:\\users\\nova\\anaconda3\\envs\\lddmm_env\\lib\\site-packages (from jupyter-events>=0.9.0->jupyter-server>=1.24.0->jupyter-server-proxy->pyvista[jupyter]) (0.1.1)\n",
      "Requirement already satisfied: beautifulsoup4 in c:\\users\\nova\\anaconda3\\envs\\lddmm_env\\lib\\site-packages (from nbconvert>=6.4.4->jupyter-server>=1.24.0->jupyter-server-proxy->pyvista[jupyter]) (4.12.3)\n",
      "Requirement already satisfied: bleach!=5.0.0 in c:\\users\\nova\\anaconda3\\envs\\lddmm_env\\lib\\site-packages (from nbconvert>=6.4.4->jupyter-server>=1.24.0->jupyter-server-proxy->pyvista[jupyter]) (6.1.0)\n",
      "Requirement already satisfied: defusedxml in c:\\users\\nova\\anaconda3\\envs\\lddmm_env\\lib\\site-packages (from nbconvert>=6.4.4->jupyter-server>=1.24.0->jupyter-server-proxy->pyvista[jupyter]) (0.7.1)\n",
      "Requirement already satisfied: jupyterlab-pygments in c:\\users\\nova\\anaconda3\\envs\\lddmm_env\\lib\\site-packages (from nbconvert>=6.4.4->jupyter-server>=1.24.0->jupyter-server-proxy->pyvista[jupyter]) (0.3.0)\n",
      "Requirement already satisfied: mistune<4,>=2.0.3 in c:\\users\\nova\\anaconda3\\envs\\lddmm_env\\lib\\site-packages (from nbconvert>=6.4.4->jupyter-server>=1.24.0->jupyter-server-proxy->pyvista[jupyter]) (3.0.2)\n",
      "Requirement already satisfied: nbclient>=0.5.0 in c:\\users\\nova\\anaconda3\\envs\\lddmm_env\\lib\\site-packages (from nbconvert>=6.4.4->jupyter-server>=1.24.0->jupyter-server-proxy->pyvista[jupyter]) (0.10.0)\n",
      "Requirement already satisfied: pandocfilters>=1.4.1 in c:\\users\\nova\\anaconda3\\envs\\lddmm_env\\lib\\site-packages (from nbconvert>=6.4.4->jupyter-server>=1.24.0->jupyter-server-proxy->pyvista[jupyter]) (1.5.0)\n",
      "Requirement already satisfied: tinycss2 in c:\\users\\nova\\anaconda3\\envs\\lddmm_env\\lib\\site-packages (from nbconvert>=6.4.4->jupyter-server>=1.24.0->jupyter-server-proxy->pyvista[jupyter]) (1.4.0)\n",
      "Requirement already satisfied: fastjsonschema>=2.15 in c:\\users\\nova\\anaconda3\\envs\\lddmm_env\\lib\\site-packages (from nbformat>=5.3.0->jupyter-server>=1.24.0->jupyter-server-proxy->pyvista[jupyter]) (2.20.0)\n",
      "Requirement already satisfied: wcwidth in c:\\users\\nova\\anaconda3\\envs\\lddmm_env\\lib\\site-packages (from prompt-toolkit!=3.0.37,<3.1.0,>=3.0.30->ipython>=6.1.0->ipywidgets->pyvista[jupyter]) (0.2.13)\n",
      "Requirement already satisfied: propcache>=0.2.0 in c:\\users\\nova\\anaconda3\\envs\\lddmm_env\\lib\\site-packages (from yarl<2.0,>=1.12.0->aiohttp->jupyter-server-proxy->pyvista[jupyter]) (0.2.0)\n",
      "Requirement already satisfied: executing>=1.2.0 in c:\\users\\nova\\anaconda3\\envs\\lddmm_env\\lib\\site-packages (from stack-data->ipython>=6.1.0->ipywidgets->pyvista[jupyter]) (2.1.0)\n",
      "Requirement already satisfied: asttokens>=2.1.0 in c:\\users\\nova\\anaconda3\\envs\\lddmm_env\\lib\\site-packages (from stack-data->ipython>=6.1.0->ipywidgets->pyvista[jupyter]) (2.4.1)\n",
      "Requirement already satisfied: pure-eval in c:\\users\\nova\\anaconda3\\envs\\lddmm_env\\lib\\site-packages (from stack-data->ipython>=6.1.0->ipywidgets->pyvista[jupyter]) (0.2.3)\n",
      "Requirement already satisfied: webencodings in c:\\users\\nova\\anaconda3\\envs\\lddmm_env\\lib\\site-packages (from bleach!=5.0.0->nbconvert>=6.4.4->jupyter-server>=1.24.0->jupyter-server-proxy->pyvista[jupyter]) (0.5.1)\n",
      "Requirement already satisfied: jsonschema-specifications>=2023.03.6 in c:\\users\\nova\\anaconda3\\envs\\lddmm_env\\lib\\site-packages (from jsonschema>=4.18.0->jsonschema[format-nongpl]>=4.18.0->jupyter-events>=0.9.0->jupyter-server>=1.24.0->jupyter-server-proxy->pyvista[jupyter]) (2024.10.1)\n",
      "Requirement already satisfied: pkgutil-resolve-name>=1.3.10 in c:\\users\\nova\\anaconda3\\envs\\lddmm_env\\lib\\site-packages (from jsonschema>=4.18.0->jsonschema[format-nongpl]>=4.18.0->jupyter-events>=0.9.0->jupyter-server>=1.24.0->jupyter-server-proxy->pyvista[jupyter]) (1.3.10)\n",
      "Requirement already satisfied: rpds-py>=0.7.1 in c:\\users\\nova\\anaconda3\\envs\\lddmm_env\\lib\\site-packages (from jsonschema>=4.18.0->jsonschema[format-nongpl]>=4.18.0->jupyter-events>=0.9.0->jupyter-server>=1.24.0->jupyter-server-proxy->pyvista[jupyter]) (0.20.0)\n",
      "Requirement already satisfied: fqdn in c:\\users\\nova\\anaconda3\\envs\\lddmm_env\\lib\\site-packages (from jsonschema[format-nongpl]>=4.18.0->jupyter-events>=0.9.0->jupyter-server>=1.24.0->jupyter-server-proxy->pyvista[jupyter]) (1.5.1)\n",
      "Requirement already satisfied: isoduration in c:\\users\\nova\\anaconda3\\envs\\lddmm_env\\lib\\site-packages (from jsonschema[format-nongpl]>=4.18.0->jupyter-events>=0.9.0->jupyter-server>=1.24.0->jupyter-server-proxy->pyvista[jupyter]) (20.11.0)\n",
      "Requirement already satisfied: jsonpointer>1.13 in c:\\users\\nova\\anaconda3\\envs\\lddmm_env\\lib\\site-packages (from jsonschema[format-nongpl]>=4.18.0->jupyter-events>=0.9.0->jupyter-server>=1.24.0->jupyter-server-proxy->pyvista[jupyter]) (3.0.0)\n",
      "Requirement already satisfied: uri-template in c:\\users\\nova\\anaconda3\\envs\\lddmm_env\\lib\\site-packages (from jsonschema[format-nongpl]>=4.18.0->jupyter-events>=0.9.0->jupyter-server>=1.24.0->jupyter-server-proxy->pyvista[jupyter]) (1.3.0)\n",
      "Requirement already satisfied: webcolors>=24.6.0 in c:\\users\\nova\\anaconda3\\envs\\lddmm_env\\lib\\site-packages (from jsonschema[format-nongpl]>=4.18.0->jupyter-events>=0.9.0->jupyter-server>=1.24.0->jupyter-server-proxy->pyvista[jupyter]) (24.8.0)\n",
      "Requirement already satisfied: cffi>=1.0.1 in c:\\users\\nova\\anaconda3\\envs\\lddmm_env\\lib\\site-packages (from argon2-cffi-bindings->argon2-cffi>=21.1->jupyter-server>=1.24.0->jupyter-server-proxy->pyvista[jupyter]) (1.17.0)\n",
      "Requirement already satisfied: soupsieve>1.2 in c:\\users\\nova\\anaconda3\\envs\\lddmm_env\\lib\\site-packages (from beautifulsoup4->nbconvert>=6.4.4->jupyter-server>=1.24.0->jupyter-server-proxy->pyvista[jupyter]) (2.5)\n",
      "Requirement already satisfied: pycparser in c:\\users\\nova\\anaconda3\\envs\\lddmm_env\\lib\\site-packages (from cffi>=1.0.1->argon2-cffi-bindings->argon2-cffi>=21.1->jupyter-server>=1.24.0->jupyter-server-proxy->pyvista[jupyter]) (2.22)\n",
      "Requirement already satisfied: arrow>=0.15.0 in c:\\users\\nova\\anaconda3\\envs\\lddmm_env\\lib\\site-packages (from isoduration->jsonschema[format-nongpl]>=4.18.0->jupyter-events>=0.9.0->jupyter-server>=1.24.0->jupyter-server-proxy->pyvista[jupyter]) (1.3.0)\n",
      "Requirement already satisfied: types-python-dateutil>=2.8.10 in c:\\users\\nova\\anaconda3\\envs\\lddmm_env\\lib\\site-packages (from arrow>=0.15.0->isoduration->jsonschema[format-nongpl]>=4.18.0->jupyter-events>=0.9.0->jupyter-server>=1.24.0->jupyter-server-proxy->pyvista[jupyter]) (2.9.0.20241003)\n",
      "Collecting pyacvd\n",
      "  Downloading pyacvd-0.2.11-cp38-cp38-win_amd64.whl.metadata (2.6 kB)\n",
      "Requirement already satisfied: pyvista>=0.37.0 in c:\\users\\nova\\anaconda3\\envs\\lddmm_env\\lib\\site-packages (from pyacvd) (0.44.1)\n",
      "Requirement already satisfied: numpy in c:\\users\\nova\\anaconda3\\envs\\lddmm_env\\lib\\site-packages (from pyacvd) (1.24.4)\n",
      "Requirement already satisfied: matplotlib>=3.0.1 in c:\\users\\nova\\anaconda3\\envs\\lddmm_env\\lib\\site-packages (from pyvista>=0.37.0->pyacvd) (3.7.3)\n",
      "Requirement already satisfied: pillow in c:\\users\\nova\\anaconda3\\envs\\lddmm_env\\lib\\site-packages (from pyvista>=0.37.0->pyacvd) (9.4.0)\n",
      "Requirement already satisfied: pooch in c:\\users\\nova\\anaconda3\\envs\\lddmm_env\\lib\\site-packages (from pyvista>=0.37.0->pyacvd) (1.8.2)\n",
      "Requirement already satisfied: scooby>=0.5.1 in c:\\users\\nova\\anaconda3\\envs\\lddmm_env\\lib\\site-packages (from pyvista>=0.37.0->pyacvd) (0.10.0)\n",
      "Requirement already satisfied: vtk in c:\\users\\nova\\anaconda3\\envs\\lddmm_env\\lib\\site-packages (from pyvista>=0.37.0->pyacvd) (9.3.1)\n",
      "Requirement already satisfied: typing-extensions in c:\\users\\nova\\anaconda3\\envs\\lddmm_env\\lib\\site-packages (from pyvista>=0.37.0->pyacvd) (4.12.2)\n",
      "Requirement already satisfied: contourpy>=1.0.1 in c:\\users\\nova\\anaconda3\\envs\\lddmm_env\\lib\\site-packages (from matplotlib>=3.0.1->pyvista>=0.37.0->pyacvd) (1.1.1)\n",
      "Requirement already satisfied: cycler>=0.10 in c:\\users\\nova\\anaconda3\\envs\\lddmm_env\\lib\\site-packages (from matplotlib>=3.0.1->pyvista>=0.37.0->pyacvd) (0.12.1)\n",
      "Requirement already satisfied: fonttools>=4.22.0 in c:\\users\\nova\\anaconda3\\envs\\lddmm_env\\lib\\site-packages (from matplotlib>=3.0.1->pyvista>=0.37.0->pyacvd) (4.53.1)\n",
      "Requirement already satisfied: kiwisolver>=1.0.1 in c:\\users\\nova\\anaconda3\\envs\\lddmm_env\\lib\\site-packages (from matplotlib>=3.0.1->pyvista>=0.37.0->pyacvd) (1.4.5)\n",
      "Requirement already satisfied: packaging>=20.0 in c:\\users\\nova\\anaconda3\\envs\\lddmm_env\\lib\\site-packages (from matplotlib>=3.0.1->pyvista>=0.37.0->pyacvd) (24.1)\n",
      "Requirement already satisfied: pyparsing>=2.3.1 in c:\\users\\nova\\anaconda3\\envs\\lddmm_env\\lib\\site-packages (from matplotlib>=3.0.1->pyvista>=0.37.0->pyacvd) (3.1.4)\n",
      "Requirement already satisfied: python-dateutil>=2.7 in c:\\users\\nova\\anaconda3\\envs\\lddmm_env\\lib\\site-packages (from matplotlib>=3.0.1->pyvista>=0.37.0->pyacvd) (2.9.0)\n",
      "Requirement already satisfied: importlib-resources>=3.2.0 in c:\\users\\nova\\anaconda3\\envs\\lddmm_env\\lib\\site-packages (from matplotlib>=3.0.1->pyvista>=0.37.0->pyacvd) (6.4.5)\n",
      "Requirement already satisfied: platformdirs>=2.5.0 in c:\\users\\nova\\anaconda3\\envs\\lddmm_env\\lib\\site-packages (from pooch->pyvista>=0.37.0->pyacvd) (4.3.6)\n",
      "Requirement already satisfied: requests>=2.19.0 in c:\\users\\nova\\anaconda3\\envs\\lddmm_env\\lib\\site-packages (from pooch->pyvista>=0.37.0->pyacvd) (2.32.3)\n",
      "Requirement already satisfied: zipp>=3.1.0 in c:\\users\\nova\\anaconda3\\envs\\lddmm_env\\lib\\site-packages (from importlib-resources>=3.2.0->matplotlib>=3.0.1->pyvista>=0.37.0->pyacvd) (3.20.2)\n",
      "Requirement already satisfied: six>=1.5 in c:\\users\\nova\\anaconda3\\envs\\lddmm_env\\lib\\site-packages (from python-dateutil>=2.7->matplotlib>=3.0.1->pyvista>=0.37.0->pyacvd) (1.16.0)\n",
      "Requirement already satisfied: charset-normalizer<4,>=2 in c:\\users\\nova\\anaconda3\\envs\\lddmm_env\\lib\\site-packages (from requests>=2.19.0->pooch->pyvista>=0.37.0->pyacvd) (3.4.0)\n",
      "Requirement already satisfied: idna<4,>=2.5 in c:\\users\\nova\\anaconda3\\envs\\lddmm_env\\lib\\site-packages (from requests>=2.19.0->pooch->pyvista>=0.37.0->pyacvd) (3.10)\n",
      "Requirement already satisfied: urllib3<3,>=1.21.1 in c:\\users\\nova\\anaconda3\\envs\\lddmm_env\\lib\\site-packages (from requests>=2.19.0->pooch->pyvista>=0.37.0->pyacvd) (2.2.3)\n",
      "Requirement already satisfied: certifi>=2017.4.17 in c:\\users\\nova\\anaconda3\\envs\\lddmm_env\\lib\\site-packages (from requests>=2.19.0->pooch->pyvista>=0.37.0->pyacvd) (2024.8.30)\n",
      "Downloading pyacvd-0.2.11-cp38-cp38-win_amd64.whl (136 kB)\n",
      "Installing collected packages: pyacvd\n",
      "Successfully installed pyacvd-0.2.11\n",
      "Collecting meshio\n",
      "  Using cached meshio-5.3.5-py3-none-any.whl.metadata (11 kB)\n",
      "Requirement already satisfied: numpy>=1.20.0 in c:\\users\\nova\\anaconda3\\envs\\lddmm_env\\lib\\site-packages (from meshio) (1.24.4)\n",
      "Collecting rich (from meshio)\n",
      "  Downloading rich-13.9.4-py3-none-any.whl.metadata (18 kB)\n",
      "Collecting markdown-it-py>=2.2.0 (from rich->meshio)\n",
      "  Downloading markdown_it_py-3.0.0-py3-none-any.whl.metadata (6.9 kB)\n",
      "Requirement already satisfied: pygments<3.0.0,>=2.13.0 in c:\\users\\nova\\anaconda3\\envs\\lddmm_env\\lib\\site-packages (from rich->meshio) (2.18.0)\n",
      "Requirement already satisfied: typing-extensions<5.0,>=4.0.0 in c:\\users\\nova\\anaconda3\\envs\\lddmm_env\\lib\\site-packages (from rich->meshio) (4.12.2)\n",
      "Collecting mdurl~=0.1 (from markdown-it-py>=2.2.0->rich->meshio)\n",
      "  Downloading mdurl-0.1.2-py3-none-any.whl.metadata (1.6 kB)\n",
      "Using cached meshio-5.3.5-py3-none-any.whl (166 kB)\n",
      "Downloading rich-13.9.4-py3-none-any.whl (242 kB)\n",
      "Downloading markdown_it_py-3.0.0-py3-none-any.whl (87 kB)\n",
      "Downloading mdurl-0.1.2-py3-none-any.whl (10.0 kB)\n",
      "Installing collected packages: mdurl, markdown-it-py, rich, meshio\n",
      "Successfully installed markdown-it-py-3.0.0 mdurl-0.1.2 meshio-5.3.5 rich-13.9.4\n"
     ]
    }
   ],
   "source": [
    "!pip install \"pyvista[jupyter]\"\n",
    "!pip install pyacvd\n",
    "!pip install meshio"
   ]
  },
  {
   "cell_type": "code",
   "execution_count": 4,
   "id": "db8d5cf8",
   "metadata": {},
   "outputs": [],
   "source": [
    "import pyacvd\n",
    "import meshio\n",
    "import pyvista as pv"
   ]
  },
  {
   "cell_type": "code",
   "execution_count": 5,
   "id": "aa866838",
   "metadata": {},
   "outputs": [],
   "source": [
    "# mesh = meshio.read('surface_mesh_but.stl')\n",
    "segmentation = 'segmentation_ll.ply'\n",
    "mesh = pv.read(segmentation)"
   ]
  },
  {
   "cell_type": "code",
   "execution_count": 6,
   "id": "e526e336",
   "metadata": {},
   "outputs": [
    {
     "data": {
      "text/html": [
       "<table style='width: 100%;'><tr><th>Header</th><th>Data Arrays</th></tr><tr><td>\n",
       "<table style='width: 100%;'>\n",
       "<tr><th>PolyData</th><th>Information</th></tr>\n",
       "<tr><td>N Cells</td><td>11120</td></tr>\n",
       "<tr><td>N Points</td><td>5558</td></tr>\n",
       "<tr><td>N Strips</td><td>0</td></tr>\n",
       "<tr><td>X Bounds</td><td>-1.791e+01, 1.277e+01</td></tr>\n",
       "<tr><td>Y Bounds</td><td>2.042e+01, 1.262e+02</td></tr>\n",
       "<tr><td>Z Bounds</td><td>-1.647e+02, -5.906e+01</td></tr>\n",
       "<tr><td>N Arrays</td><td>1</td></tr>\n",
       "</table>\n",
       "\n",
       "</td><td>\n",
       "<table style='width: 100%;'>\n",
       "<tr><th>Name</th><th>Field</th><th>Type</th><th>N Comp</th><th>Min</th><th>Max</th></tr>\n",
       "<tr><td>RGBA</td><td>Cells</td><td>uint8</td><td>4</td><td>2.040e+02</td><td>2.550e+02</td></tr>\n",
       "</table>\n",
       "\n",
       "</td></tr> </table>"
      ],
      "text/plain": [
       "PolyData (0x1bd42fb3b20)\n",
       "  N Cells:    11120\n",
       "  N Points:   5558\n",
       "  N Strips:   0\n",
       "  X Bounds:   -1.791e+01, 1.277e+01\n",
       "  Y Bounds:   2.042e+01, 1.262e+02\n",
       "  Z Bounds:   -1.647e+02, -5.906e+01\n",
       "  N Arrays:   1"
      ]
     },
     "execution_count": 6,
     "metadata": {},
     "output_type": "execute_result"
    }
   ],
   "source": [
    "mesh"
   ]
  },
  {
   "cell_type": "code",
   "execution_count": 7,
   "id": "e3712d97",
   "metadata": {},
   "outputs": [],
   "source": [
    "pv.set_jupyter_backend('trame')"
   ]
  },
  {
   "cell_type": "code",
   "execution_count": 8,
   "id": "680f79c5",
   "metadata": {},
   "outputs": [
    {
     "data": {
      "application/vnd.jupyter.widget-view+json": {
       "model_id": "623111a0fe924c78b178ac08b0c24802",
       "version_major": 2,
       "version_minor": 0
      },
      "text/plain": [
       "Widget(value='<iframe src=\"http://localhost:50769/index.html?ui=P_0x1bd44c8a700_0&reconnect=auto\" class=\"pyvis…"
      ]
     },
     "metadata": {},
     "output_type": "display_data"
    }
   ],
   "source": [
    "mesh.plot(show_edges=True, color='w')"
   ]
  },
  {
   "cell_type": "code",
   "execution_count": 9,
   "id": "685fc900",
   "metadata": {
    "scrolled": false
   },
   "outputs": [
    {
     "data": {
      "application/vnd.jupyter.widget-view+json": {
       "model_id": "4722bdd298634d9999e41089f88b1357",
       "version_major": 2,
       "version_minor": 0
      },
      "text/plain": [
       "Widget(value='<iframe src=\"http://localhost:50769/index.html?ui=P_0x1bd42c67730_1&reconnect=auto\" class=\"pyvis…"
      ]
     },
     "metadata": {},
     "output_type": "display_data"
    }
   ],
   "source": [
    "clus = pyacvd.Clustering(mesh)\n",
    "# mesh is not dense enough for uniform remeshing\n",
    "clus.subdivide(3)\n",
    "clus.cluster(200)\n",
    "\n",
    "# plot clustered cow mesh\n",
    "clus.plot()"
   ]
  },
  {
   "cell_type": "code",
   "execution_count": 10,
   "id": "fc4a3478",
   "metadata": {},
   "outputs": [
    {
     "data": {
      "application/vnd.jupyter.widget-view+json": {
       "model_id": "1c44949fa7464c22953449f9bc2a7ce6",
       "version_major": 2,
       "version_minor": 0
      },
      "text/plain": [
       "Widget(value='<iframe src=\"http://localhost:50769/index.html?ui=P_0x1bd3efc6700_2&reconnect=auto\" class=\"pyvis…"
      ]
     },
     "metadata": {},
     "output_type": "display_data"
    }
   ],
   "source": [
    "remesh = clus.create_mesh()\n",
    "remesh.plot(color='w', show_edges=True)"
   ]
  },
  {
   "cell_type": "code",
   "execution_count": 11,
   "id": "c4f2dfbc",
   "metadata": {},
   "outputs": [
    {
     "data": {
      "text/html": [
       "\n",
       "<table style='width: 100%;'>\n",
       "<tr><th>PolyData</th><th>Information</th></tr>\n",
       "<tr><td>N Cells</td><td>393</td></tr>\n",
       "<tr><td>N Points</td><td>200</td></tr>\n",
       "<tr><td>N Strips</td><td>0</td></tr>\n",
       "<tr><td>X Bounds</td><td>-1.611e+01, 1.245e+01</td></tr>\n",
       "<tr><td>Y Bounds</td><td>2.154e+01, 1.261e+02</td></tr>\n",
       "<tr><td>Z Bounds</td><td>-1.636e+02, -5.927e+01</td></tr>\n",
       "<tr><td>N Arrays</td><td>0</td></tr>\n",
       "</table>\n",
       "\n"
      ],
      "text/plain": [
       "PolyData (0x1bd4856a2e0)\n",
       "  N Cells:    393\n",
       "  N Points:   200\n",
       "  N Strips:   0\n",
       "  X Bounds:   -1.611e+01, 1.245e+01\n",
       "  Y Bounds:   2.154e+01, 1.261e+02\n",
       "  Z Bounds:   -1.636e+02, -5.927e+01\n",
       "  N Arrays:   0"
      ]
     },
     "execution_count": 11,
     "metadata": {},
     "output_type": "execute_result"
    }
   ],
   "source": [
    "remesh"
   ]
  },
  {
   "cell_type": "code",
   "execution_count": 12,
   "id": "5073b719",
   "metadata": {},
   "outputs": [],
   "source": [
    "file_name = segmentation.split('.')[0] + '_mesh.ply'\n",
    "# pv.save_meshio(file_name, remesh)"
   ]
  },
  {
   "cell_type": "markdown",
   "id": "ee47c0f4",
   "metadata": {},
   "source": [
    "## Decimate a mesh to a target number of triangles"
   ]
  },
  {
   "cell_type": "code",
   "execution_count": 18,
   "id": "ba5be9a2",
   "metadata": {},
   "outputs": [
    {
     "name": "stdout",
     "output_type": "stream",
     "text": [
      "Collecting fast-simplification\n",
      "  Downloading fast_simplification-0.1.7-cp38-cp38-win_amd64.whl.metadata (10 kB)\n",
      "Requirement already satisfied: numpy>=1.16.0 in c:\\users\\nova\\anaconda3\\envs\\lddmm_env\\lib\\site-packages (from fast-simplification) (1.24.4)\n",
      "Downloading fast_simplification-0.1.7-cp38-cp38-win_amd64.whl (212 kB)\n",
      "Installing collected packages: fast-simplification\n",
      "Successfully installed fast-simplification-0.1.7\n"
     ]
    }
   ],
   "source": [
    "!pip install fast-simplification"
   ]
  },
  {
   "cell_type": "code",
   "execution_count": 19,
   "id": "49448719",
   "metadata": {},
   "outputs": [],
   "source": [
    "import trimesh\n",
    "import pyvista as pv"
   ]
  },
  {
   "cell_type": "code",
   "execution_count": 38,
   "id": "ee90a137",
   "metadata": {
    "scrolled": true
   },
   "outputs": [],
   "source": [
    "# function to visualize a mesh and print its properties\n",
    "def visualize_mesh(mesh, info=False, color='w'):\n",
    "    mesh = pv.read(mesh)\n",
    "    mesh.plot(show_edges=True, color=color)\n",
    "    \n",
    "    if info:\n",
    "        print(mesh)\n",
    "\n",
    "# function to decimate a given mesh in to a target number of triangles\n",
    "def decimate(input_mesh, target_faces, output_mesh):\n",
    "    try:\n",
    "        mesh = trimesh.load_mesh(input_mesh)\n",
    "\n",
    "        # Decimate the mesh\n",
    "        decimated_mesh = mesh.simplify_quadric_decimation(face_count=target_faces)\n",
    "\n",
    "        # Write the decimated mesh to a new .ply file\n",
    "        decimated_mesh.export(output_mesh)\n",
    "        \n",
    "        return \"Successfully decimated the mesh\"\n",
    "    \n",
    "    except Exception as e:\n",
    "        return e"
   ]
  },
  {
   "cell_type": "code",
   "execution_count": 39,
   "id": "923bd156",
   "metadata": {},
   "outputs": [],
   "source": [
    "# segmentation = 'segmentation_aa.ply'\n",
    "# mesh = pv.read(segmentation)\n",
    "\n",
    "# target_faces = 300  # Replace with the target number of faces you want\n",
    "# original_faces = mesh.faces.shape[0]  # Get the original number of faces\n",
    "# print(original_faces)\n",
    "\n",
    "# # Calculate the target reduction ratio\n",
    "# target_reduction = target_faces / original_faces\n",
    "\n",
    "# if not (0 < target_reduction < 1):\n",
    "#     raise ValueError(\"target_reduction must be between 0 and 1\")"
   ]
  },
  {
   "cell_type": "code",
   "execution_count": 40,
   "id": "75008211",
   "metadata": {},
   "outputs": [],
   "source": [
    "# tri_mesh = trimesh.load_mesh(segmentation)\n",
    "# decimated_mesh = tri_mesh.simplify_quadric_decimation(target_faces)"
   ]
  },
  {
   "cell_type": "code",
   "execution_count": 47,
   "id": "982334a5",
   "metadata": {},
   "outputs": [
    {
     "data": {
      "application/vnd.jupyter.widget-view+json": {
       "model_id": "bdd0214527d940cf9b771f44b067544e",
       "version_major": 2,
       "version_minor": 0
      },
      "text/plain": [
       "Widget(value='<iframe src=\"http://localhost:50769/index.html?ui=P_0x1bed602d880_11&reconnect=auto\" class=\"pyvi…"
      ]
     },
     "metadata": {},
     "output_type": "display_data"
    },
    {
     "name": "stdout",
     "output_type": "stream",
     "text": [
      "PolyData (0x1bedb914e20)\n",
      "  N Cells:    20100\n",
      "  N Points:   10048\n",
      "  N Strips:   0\n",
      "  X Bounds:   -2.281e+01, 2.106e+01\n",
      "  Y Bounds:   1.884e+01, 1.439e+02\n",
      "  Z Bounds:   -1.615e+02, -5.811e+01\n",
      "  N Arrays:   1\n"
     ]
    }
   ],
   "source": [
    "# read segmentation mesh and display it\n",
    "segmentation = 'segmentation_oo.ply'\n",
    "target_faces = 300\n",
    "\n",
    "visualize_mesh(segmentation, info=True)"
   ]
  },
  {
   "cell_type": "code",
   "execution_count": 48,
   "id": "c27a7d95",
   "metadata": {},
   "outputs": [
    {
     "data": {
      "text/plain": [
       "'Successfully decimated the mesh'"
      ]
     },
     "execution_count": 48,
     "metadata": {},
     "output_type": "execute_result"
    }
   ],
   "source": [
    "# decimate the segmented mesh into target number of triangles\n",
    "output_mesh = segmentation.split('.')[0] + '_mesh_' + str(target_faces) + '.ply'\n",
    "decimate(segmentation, target_faces, output_mesh)"
   ]
  },
  {
   "cell_type": "code",
   "execution_count": null,
   "id": "42a362f4",
   "metadata": {},
   "outputs": [
    {
     "data": {
      "application/vnd.jupyter.widget-view+json": {
       "model_id": "48da788a5c29447b99febff404f76aec",
       "version_major": 2,
       "version_minor": 0
      },
      "text/plain": [
       "Widget(value='<iframe src=\"http://localhost:50769/index.html?ui=P_0x1bed8c74a00_12&reconnect=auto\" class=\"pyvi…"
      ]
     },
     "metadata": {},
     "output_type": "display_data"
    },
    {
     "name": "stdout",
     "output_type": "stream",
     "text": [
      "PolyData (0x1be990b2b80)\n",
      "  N Cells:    300\n",
      "  N Points:   150\n",
      "  N Strips:   0\n",
      "  X Bounds:   -2.160e+01, 2.107e+01\n",
      "  Y Bounds:   1.849e+01, 1.437e+02\n",
      "  Z Bounds:   -1.609e+02, -5.809e+01\n",
      "  N Arrays:   0\n"
     ]
    },
    {
     "ename": "",
     "evalue": "",
     "output_type": "error",
     "traceback": [
      "\u001b[1;31mThe Kernel crashed while executing code in the current cell or a previous cell. \n",
      "\u001b[1;31mPlease review the code in the cell(s) to identify a possible cause of the failure. \n",
      "\u001b[1;31mClick <a href='https://aka.ms/vscodeJupyterKernelCrash'>here</a> for more info. \n",
      "\u001b[1;31mView Jupyter <a href='command:jupyter.viewOutput'>log</a> for further details."
     ]
    }
   ],
   "source": [
    "# read and display the decimated mesh\n",
    "visualize_mesh(output_mesh, info=True)"
   ]
  }
 ],
 "metadata": {
  "kernelspec": {
   "display_name": "lddmm_env",
   "language": "python",
   "name": "python3"
  },
  "language_info": {
   "codemirror_mode": {
    "name": "ipython",
    "version": 3
   },
   "file_extension": ".py",
   "mimetype": "text/x-python",
   "name": "python",
   "nbconvert_exporter": "python",
   "pygments_lexer": "ipython3",
   "version": "3.8.20"
  },
  "nbTranslate": {
   "displayLangs": [
    "*"
   ],
   "hotkey": "alt-t",
   "langInMainMenu": true,
   "sourceLang": "en",
   "targetLang": "fr",
   "useGoogleTranslate": true
  }
 },
 "nbformat": 4,
 "nbformat_minor": 5
}
